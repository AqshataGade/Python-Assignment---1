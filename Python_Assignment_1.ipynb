{
 "cells": [
  {
   "cell_type": "code",
   "execution_count": 1,
   "metadata": {},
   "outputs": [
    {
     "data": {
      "text/plain": [
       "'This is just to show how to store value in variable and print the same.'"
      ]
     },
     "execution_count": 1,
     "metadata": {},
     "output_type": "execute_result"
    }
   ],
   "source": [
    "## Q1\n",
    "## Store a message in a variable, and then print that message.\n",
    "\n",
    "Basic_msg = \"This is just to show how to store value in variable and print the same.\"\n",
    "Basic_msg"
   ]
  },
  {
   "cell_type": "code",
   "execution_count": 2,
   "metadata": {},
   "outputs": [
    {
     "name": "stdout",
     "output_type": "stream",
     "text": [
      "This is the original message.\n",
      "This is updated message.\n"
     ]
    }
   ],
   "source": [
    "## Q2\n",
    "## Store a message in a variable andprint that message. Then change the value of your variable to a new message andprint the new message.\n",
    "\n",
    "Change_msg = \"This is the original message.\"\n",
    "print(Change_msg)\n",
    "Change_msg = \"This is updated message.\"\n",
    "print(Change_msg)"
   ]
  },
  {
   "cell_type": "code",
   "execution_count": 6,
   "metadata": {
    "scrolled": true
   },
   "outputs": [
    {
     "name": "stdout",
     "output_type": "stream",
     "text": [
      "Please Enter your name: Aqshata\n",
      "Hello,  Aqshata Python is easy language. Would you like to learn more about python today?\n"
     ]
    }
   ],
   "source": [
    "## Q3\n",
    "## Store a person’s name in a variable andprint a message to that person.\n",
    "\n",
    "User_name = input(\"Please Enter your name: \")\n",
    "User_msg = print(\"Hello, \",User_name,\"Python is easy language. Would you like to learn more about python today?\")"
   ]
  },
  {
   "cell_type": "code",
   "execution_count": 7,
   "metadata": {},
   "outputs": [
    {
     "name": "stdout",
     "output_type": "stream",
     "text": [
      "Dhiman once said, \"If they say it is impossible...It is impossible for them and not for you\"\n"
     ]
    }
   ],
   "source": [
    "## Q4\n",
    "## Print the quote and the name of its author. Your output should look something like the following, including the quotation marks: Albert Einstein once said, “A person who never made a mistake never tried anything new.”\n",
    "\n",
    "print('Dhiman once said, \"If they say it is impossible...It is impossible for them and not for you\"')"
   ]
  },
  {
   "cell_type": "code",
   "execution_count": 8,
   "metadata": {},
   "outputs": [
    {
     "name": "stdout",
     "output_type": "stream",
     "text": [
      "Dhiman once said, If they say it is impossible.....It is impossible for them and not for you\n"
     ]
    }
   ],
   "source": [
    "## Q5\n",
    "## Repeat Above Exercise, but this time store the famous person’s name in a variable called famous_person. Then compose your message and store it in a new variable called message.Print your message.6.\n",
    "\n",
    "famous_person = \"Dhiman\"\n",
    "message = \"once said, If they say it is impossible.....It is impossible for them and not for you\"\n",
    "print(famous_person,message)"
   ]
  },
  {
   "cell_type": "code",
   "execution_count": 10,
   "metadata": {},
   "outputs": [
    {
     "name": "stdout",
     "output_type": "stream",
     "text": [
      "8\n",
      "8\n",
      "8\n",
      "8\n"
     ]
    }
   ],
   "source": [
    "## Q6\n",
    "## Write addition, subtraction, multiplication, and division operations that each result in the number 8.\n",
    "## Your output should simply be four lines with the number 8 appearing once on each line.\n",
    "\n",
    "print(4+4)\n",
    "print(16-8)\n",
    "print(4*2)\n",
    "print(int(16/2))"
   ]
  },
  {
   "cell_type": "code",
   "execution_count": 11,
   "metadata": {},
   "outputs": [
    {
     "name": "stdout",
     "output_type": "stream",
     "text": [
      "My favourite number is  40\n"
     ]
    }
   ],
   "source": [
    "## Q7\n",
    "## Store your favouritenumber in a variable.Then, using that variable, create a message that reveals your favour itenumber.\n",
    "## Print that message. \n",
    "\n",
    "fav_no = 40\n",
    "print('My favourite number is ',fav_no)"
   ]
  },
  {
   "cell_type": "code",
   "execution_count": 12,
   "metadata": {},
   "outputs": [],
   "source": [
    "## Q8\n",
    "## Choose two of the programs you’ve written and add at least one comment to each.\n",
    "## If you don’t have anything specific to write because your programs are too simple at this point, just add your name and the current date at the top of each program file.\n",
    "## Then write one sentence describing what the program does.\n",
    "\n",
    "#This code is to show the calculations\n",
    "print(4+4)\n",
    "print(16-8)\n",
    "print(4*2)\n",
    "print(int(16/2))\n",
    "\n",
    "# Below code is to display inspiring quote\n",
    "print('Dhiman once said, \"If they say it is impossible...It is impossible for them and not for you\"')"
   ]
  },
  {
   "cell_type": "code",
   "execution_count": 13,
   "metadata": {},
   "outputs": [
    {
     "name": "stdout",
     "output_type": "stream",
     "text": [
      "Pannu\n",
      "Kruti\n",
      "baba\n"
     ]
    }
   ],
   "source": [
    "## Q9\n",
    "## Store the names of a few of your friends in a list called names.\n",
    "## Print each person’s name by accessing each element in the list, one at a time.\n",
    "\n",
    "names = ['Pannu','Kruti','baba']\n",
    "print(names[0])\n",
    "print(names[1])\n",
    "print(names[2])"
   ]
  },
  {
   "cell_type": "code",
   "execution_count": 14,
   "metadata": {},
   "outputs": [
    {
     "name": "stdout",
     "output_type": "stream",
     "text": [
      "Pannu , you are awesome friend of mine.\n",
      "Kruti , you are awesome friend of mine.\n",
      "baba , you are awesome friend of mine.\n"
     ]
    }
   ],
   "source": [
    "## Q10\n",
    "## Start with the list you used in Exercise 9, but instead of just printing each person’s name, print a message to them. \n",
    "## The text of each message should be the same, but each message should be personalized with the person’sname.\n",
    "\n",
    "names = ['Pannu','Kruti','baba']\n",
    "print(names[0],', you are awesome friend of mine.')\n",
    "print(names[1],', you are awesome friend of mine.')\n",
    "print(names[2],', you are awesome friend of mine.')"
   ]
  },
  {
   "cell_type": "code",
   "execution_count": 16,
   "metadata": {},
   "outputs": [
    {
     "name": "stdout",
     "output_type": "stream",
     "text": [
      "I would like to travel by Local train major missing due to lockdown\n",
      "I would like to travel by Express major missing due to lockdown\n",
      "I would like to travel by AC Local major missing due to lockdown\n"
     ]
    }
   ],
   "source": [
    "## Q11\n",
    "## Think of your favouritemode of transportation, such as a motorcycle or a car, and make a list that stores several examples.\n",
    "## Use your list to print a series of statements about these items, such as “I would like to own a Honda motorcycle.”\n",
    "\n",
    "transportation_mode = ['Local train','Express','AC Local']\n",
    "for element in transportation_mode: print('I would like to travel by ' + element + ' major missing due to lockdown')"
   ]
  },
  {
   "cell_type": "code",
   "execution_count": null,
   "metadata": {},
   "outputs": [],
   "source": []
  }
 ],
 "metadata": {
  "kernelspec": {
   "display_name": "Python 3",
   "language": "python",
   "name": "python3"
  },
  "language_info": {
   "codemirror_mode": {
    "name": "ipython",
    "version": 3
   },
   "file_extension": ".py",
   "mimetype": "text/x-python",
   "name": "python",
   "nbconvert_exporter": "python",
   "pygments_lexer": "ipython3",
   "version": "3.7.6"
  }
 },
 "nbformat": 4,
 "nbformat_minor": 4
}
